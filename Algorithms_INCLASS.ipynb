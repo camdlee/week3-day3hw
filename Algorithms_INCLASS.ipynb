{
 "cells": [
  {
   "cell_type": "markdown",
   "metadata": {},
   "source": [
    "# Algorithms, Binary Search & Linked Lists"
   ]
  },
  {
   "cell_type": "markdown",
   "metadata": {},
   "source": [
    "## Tasks Today:\n",
    " \n",
    "1) <b>In-Place Algorithms</b> <br>\n",
    " &nbsp;&nbsp;&nbsp;&nbsp; a) Syntax <br>\n",
    " &nbsp;&nbsp;&nbsp;&nbsp; a) Out of Place Algorithm <br>\n",
    " &nbsp;&nbsp;&nbsp;&nbsp; b) In-Class Exercise #1 <br>\n",
    "2) <b>Two Pointers</b> <br>\n",
    "3) <b>Linked Lists</b> <br>\n",
    "4) <b>Merge Sort</b> <br>\n",
    " &nbsp;&nbsp;&nbsp;&nbsp; a) Video on Algorithms <br>\n",
    " &nbsp;&nbsp;&nbsp;&nbsp; b) How it Works <br>\n",
    "5) <b>Exercises</b> <br>\n",
    " &nbsp;&nbsp;&nbsp;&nbsp; a) Exercise #1 - Reverse a List in Place Using an In-Place Algorithm <br>\n",
    " &nbsp;&nbsp;&nbsp;&nbsp; b) Exercise #2 - Find Distinct Words <br>\n",
    " &nbsp;&nbsp;&nbsp;&nbsp; c) Exercise #3 - Write a program to implement a Linear Search Algorithm. <br>"
   ]
  },
  {
   "cell_type": "markdown",
   "metadata": {},
   "source": [
    "## In-Place Algorithms"
   ]
  },
  {
   "cell_type": "markdown",
   "metadata": {},
   "source": [
    "#### Syntax"
   ]
  },
  {
   "cell_type": "code",
   "execution_count": null,
   "metadata": {},
   "outputs": [],
   "source": [
    "# can work on any mutable data types: lists, sets, dictionaries\n",
    "\n",
    "a = 1\n",
    "print(id(a))\n",
    "a = 2\n",
    "print(id(a))\n",
    "# notice how the ID changes, even though we call it the same variable\n",
    "\n",
    "# in place algorithm - manipulates valuable of a variable\n",
    "def swap(a_list, x, y, z):\n",
    "    #if i wanted to swap a list with x,y,z\n",
    "    a_list[x], a_list[y], a_list[z] = a_list[z], a_list[y], a_list[x]\n",
    "    # this is just reassigning each variable to another - you can do it for multiple variables in one line\n",
    "    return a_list\n",
    "\n",
    "\n",
    "my_list = [1,2,3]\n",
    "# original list\n",
    "print(my_list)\n",
    "print(id(my_list))\n",
    "# after swap\n",
    "print(swap(my_list, 0,1,2))\n",
    "print(id(my_list))"
   ]
  },
  {
   "cell_type": "markdown",
   "metadata": {},
   "source": [
    "#### Out of Place Algorithm"
   ]
  },
  {
   "cell_type": "code",
   "execution_count": null,
   "metadata": {},
   "outputs": [],
   "source": [
    "# need to store them somewhere else\n",
    "# they reference an immutable object\n",
    "\n",
    "my_list = ['a', 'b', 'c', 'd', 'e', 'f']\n",
    "print(my_list)\n",
    "print(id(my_list))\n",
    "# reverse splice\n",
    "my_list[::-1]\n",
    "print(my_list[::-1])\n",
    "print(id(my_list[::-1]))\n",
    "\n",
    "new_list = my_list[::-1]\n",
    "print(new_list)\n",
    "print(id(new_list))"
   ]
  },
  {
   "cell_type": "markdown",
   "metadata": {},
   "source": [
    "#### In-Class Exercise #1 <br>\n",
    "<p>Write a function that takes in four arguments (list, index1, index2, index3), and swaps those three positions in the list passed in.</p>"
   ]
  },
  {
   "cell_type": "code",
   "execution_count": null,
   "metadata": {},
   "outputs": [],
   "source": [
    "# l_1 = [10, 4, 3, 8, 4, 2, 6]\n",
    "\n",
    "# def swap(list1, x, y, z):\n",
    "#     list1[x], list1[y], list1[z] = list1[z], list1[y], list1[x]\n",
    "#     return list1\n",
    "\n",
    "# print(swap(l_1, 0, 1, 2))"
   ]
  },
  {
   "cell_type": "markdown",
   "metadata": {},
   "source": [
    "## Two Pointers"
   ]
  },
  {
   "cell_type": "markdown",
   "metadata": {},
   "source": [
    "#### Syntax"
   ]
  },
  {
   "cell_type": "code",
   "execution_count": null,
   "metadata": {},
   "outputs": [],
   "source": [
    "# allows us to look at two things at once (can be referred to as sliding windows)\n",
    "\n",
    "test_list = [1,2,3,4,5,6,7,8,9,10,11]\n",
    "\n",
    "def two_pointer(a_list):\n",
    "    left = 0\n",
    "    right = len(a_list) -1\n",
    "    while left <= right:\n",
    "        a_list[left], a_list[right] = a_list[right], a_list[left]\n",
    "        # our direction is to move inward, so from left we increase, from right we decrease\n",
    "        left += 1\n",
    "        right -= 1\n",
    "    return a_list\n",
    "\n",
    "print(two_pointer(test_list))\n",
    "\n",
    "# this application is for numerical lists in order and it make sense to reverse it\n",
    "# but it is applicable to other situations to compare left and right values in a list\n",
    "\n",
    "#this is an inplace algorith, because it manipulates the value of a variable"
   ]
  },
  {
   "cell_type": "markdown",
   "metadata": {},
   "source": [
    "#### Video of Algorithms <br>\n",
    "<p>Watch the video about algorithms.</p>\n",
    "\n",
    "https://www.youtube.com/watch?v=Q9HjeFD62Uk\n",
    "\n",
    "https://www.youtube.com/watch?v=kPRA0W1kECg\n",
    "\n",
    "https://www.youtube.com/watch?v=ZZuD6iUe3Pc"
   ]
  },
  {
   "cell_type": "markdown",
   "metadata": {},
   "source": [
    "# Sorting Algorithms"
   ]
  },
  {
   "cell_type": "markdown",
   "metadata": {},
   "source": [
    "#### Bubble Sort\n",
    "\n",
    "Worst Case: O(n^2) Time - O(1) Space"
   ]
  },
  {
   "cell_type": "code",
   "execution_count": null,
   "metadata": {},
   "outputs": [],
   "source": [
    "# buble sort evaluates two valuables and if condition is met, then it'll swap\n",
    "# it will run through whole list and compare each value to the one next to it, \n",
    "# once it reaches an end, it will loop back\n",
    "# it will keep running through to evaluate if all values meet criteria\n",
    "\n",
    "def bubble_sort(a_list):\n",
    "    # setting up a flag, which is in a while loop\n",
    "    isSorted = False\n",
    "    passes = 0 \n",
    "    # while loop \n",
    "    while not isSorted:\n",
    "        passes += 1\n",
    "        print(passes)\n",
    "        # change isSorted to true\n",
    "        isSorted = True\n",
    "        # look through indices of list\n",
    "        for i in range(len(a_list) - 1):\n",
    "            # pa\n",
    "            if a_list[i] > a_list[i + 1]:\n",
    "                swap(i, i+1, a_list)\n",
    "                # set isSorted to false so it goes all the way back up to start loop\n",
    "                isSorted = False\n",
    "            print(a_list)\n",
    "    return a_list\n",
    "\n",
    "\n",
    "def swap(i, j, a_list):\n",
    "    a_list[i], a_list[j] = a_list[j], a_list[i]\n",
    "    return a_list\n",
    "\n",
    "test_list = [2,7,12,5,8,9,6]\n",
    "print(bubble_sort(test_list))"
   ]
  },
  {
   "cell_type": "markdown",
   "metadata": {},
   "source": [
    "##### Insertion Sort\n",
    "\n",
    "Worst Case: O(n^2) time - O(1)space"
   ]
  },
  {
   "cell_type": "code",
   "execution_count": null,
   "metadata": {},
   "outputs": [],
   "source": [
    "# similar to bubble sort, but it doesn't loop through till end and re loop\n",
    "# it's like if there was a line of guys and they go down from left to right and sort at that spot rather than go to the end\n",
    "\n",
    "def insertionSort(a_list):\n",
    "    for i in range(1, len(a_list)):\n",
    "        print(i)\n",
    "        while i > 0 and a_list[i] < a_list[i-1]:\n",
    "            swap(i, i-1, a_list)\n",
    "            i -= 1\n",
    "            print(a_list)\n",
    "    return a_list\n",
    "\n",
    "\n",
    "def swap(i, j, a_list):\n",
    "    a_list[i], a_list[j] = a_list[j], a_list[i]\n",
    "    return a_list\n",
    "\n",
    "test_list = [2,7,12,5,8,9,6]\n",
    "print(insertionSort(test_list))"
   ]
  },
  {
   "cell_type": "markdown",
   "metadata": {},
   "source": [
    "## Merge Sort"
   ]
  },
  {
   "cell_type": "markdown",
   "metadata": {},
   "source": [
    "#### How it Works"
   ]
  },
  {
   "cell_type": "code",
   "execution_count": null,
   "metadata": {},
   "outputs": [],
   "source": [
    "# Step 1: Split everything into its own group\n",
    "# Step 2: From left to right merge two groups together\n",
    "# Step 3: While merging, place each item in the correct position\n",
    "\n",
    "# Step 1: Divide the a_list into equal parts (as much as possible)\n",
    "def mergeSort(a_list):\n",
    "    if len(a_list) > 1:\n",
    "        middle = len(a_list) // 2\n",
    "        left_half = a_list[:middle]\n",
    "        right_half = a_list[middle:]\n",
    "\n",
    "        # Recursion\n",
    "        # recursively call mergeSort to performm splits\n",
    "        # then merge once splits are done\n",
    "        mergeSort(left_half)\n",
    "        mergeSort(right_half)\n",
    "\n",
    "        # index pointers for our a_list\n",
    "        i = 0 # pointer for left half\n",
    "        j = 0 # pointer for right half\n",
    "        k = 0\n",
    "\n",
    "        # Step 2: \n",
    "        while i < len(left_half) and j < len(right_half):\n",
    "            if left_half[i] < right_half[j]:\n",
    "                a_list[k] = left_half[i]\n",
    "                i += 1\n",
    "            else:\n",
    "                a_list[k] = left_half[j]\n",
    "                j += 1\n",
    "            k += 1\n",
    "\n",
    "        while i < len(left_half):\n",
    "            a_list[k] = left_half[i]\n",
    "            i += 1\n",
    "            k += 1\n",
    "        while j < len(right_half):\n",
    "            a_list[k] - right_half[j]\n",
    "            j += 1\n",
    "            k += 1\n",
    "            \n",
    "    return a_list\n",
    "\n",
    "print(mergeSort([2,7,10,11,3,1,4,12]))\n",
    "\n"
   ]
  },
  {
   "cell_type": "markdown",
   "metadata": {},
   "source": [
    "# Binary Search\n",
    "\n",
    "The Binary Search algorithm works by finding the number in the middle of a given array and comparing it to the target. Given that the array is sorted\n",
    "\n",
    "* The worst case run time for this algorithm is `O(log(n))`"
   ]
  },
  {
   "cell_type": "code",
   "execution_count": null,
   "metadata": {},
   "outputs": [],
   "source": [
    "# we're used to linear searches - going through numbers in one direction\n",
    "# binary will look both directions, if one direction does work, it will look through other one\n",
    "# will continue looking in directions until it reaches result\n",
    "\n",
    "def binarySearch(a_list, target):\n",
    "    left = 0\n",
    "    right = len(a_list)\n",
    "    while left <= right:\n",
    "        middle = (left + right)//2\n",
    "        potential_match = a_list[middle]\n",
    "        if target == potential_match:\n",
    "            return f'Found {target} at index {middle}'\n",
    "        elif target < potential_match:\n",
    "            right = middle -1\n",
    "        else:\n",
    "            left = middle + 1\n",
    "    return 'Target not found'\n",
    "\n",
    "binarySearch([0, 1, 21, 33, 45, 45, 61, 71, 72, 73], 73)\n",
    "    "
   ]
  },
  {
   "cell_type": "markdown",
   "metadata": {},
   "source": [
    "# Exercises"
   ]
  },
  {
   "cell_type": "markdown",
   "metadata": {},
   "source": [
    "### Exercise #1 <br>\n",
    "<p>Reverse the list below in-place using an in-place algorithm.<br>For extra credit: Reverse the strings at the same time.</p>"
   ]
  },
  {
   "cell_type": "code",
   "execution_count": null,
   "metadata": {},
   "outputs": [],
   "source": [
    "words = ['this' , 'is', 'a', 'sentence', '.']\n",
    "\n",
    "# def swap(a_list, a, b, c, d, e):\n",
    "#     a_list[a], a_list[b], a_list[c], a_list[d], a_list[e] = a_list[e], a_list[d], a_list[c], a_list[b], a_list[a]\n",
    "#     return a_list\n",
    "\n",
    "# swap(words, 0,1,2,3,4)\n",
    "\n",
    "# try with any length list\n",
    "def swap(a_list):\n",
    "    # need to know how long list is to know numbers of idices\n",
    "    num_indices = len(a_list)\n",
    "    # let's use first index and last index, maybe we need two pointer\n",
    "    left = 0 \n",
    "    right = len(a_list) -1\n",
    "    while left <= right:\n",
    "        a_list[left], a_list[right] = a_list[right], a_list[left]\n",
    "        left += 1\n",
    "        right -= 1    \n",
    "    return a_list\n",
    "\n",
    "swap(words)\n",
    "long_list = ['this', 'is', 'a', 'longer', 'sentance', 'than', 'before', '.']\n",
    "swap(long_list)\n",
    "\n"
   ]
  },
  {
   "cell_type": "markdown",
   "metadata": {},
   "source": [
    "### Exercise #2 <br>\n",
    "<p>Create a function that counts how many distinct words are in the string below, then outputs a dictionary with the words as the key and the value as the amount of times that word appears in the string.<br>Should output:<br>{'a': 5,<br>\n",
    " 'abstract': 1,<br>\n",
    " 'an': 3,<br>\n",
    " 'array': 2, ... etc...</p>"
   ]
  },
  {
   "cell_type": "code",
   "execution_count": 4,
   "metadata": {},
   "outputs": [
    {
     "data": {
      "text/plain": [
       "{'apple': 1}"
      ]
     },
     "execution_count": 4,
     "metadata": {},
     "output_type": "execute_result"
    }
   ],
   "source": [
    "a_text = 'In computing, a hash table hash map is a data structure which implements an associative array abstract data type, a structure that can map keys to values. A hash table uses a hash function to compute an index into an array of buckets or slots from which the desired value can be found'\n",
    "\n",
    "# Needs to:\n",
    "# identify a unique word\n",
    "    # so do we have to use the .split() - it will convert string to list\n",
    "    # we need to loop through list (length of list) times \n",
    "        # in the loop we have to check if first value is equal to second value \n",
    "            # if it is equal, we need to add 1 to dictionary's value for that key/unique word\n",
    "            # if it is not equal, we need to append dictionary with key and value\n",
    "        # then move onto next pair of words\n",
    "# count number of unique word\n",
    "# add to dictionary where key is unique word, value is number of times\n",
    "# return dictionary\n",
    "\n",
    "def word_count(string):\n",
    "    # converting string to a list\n",
    "    list_str = string.split()\n",
    "    # create empty dictionary\n",
    "    new_dict = {}\n",
    "    # set up comparison of each list value to the next one, which sort to use?\n",
    "    for i in range(1, len(list_str)):\n",
    "        # print where we're at in the process\n",
    "        print(i)\n",
    "        # check to see if index i is not equal to the next index\n",
    "        if list_str[i] != list_str[i-1]:\n",
    "            # if true, then we append dictionary with new word and assign it a value of 1\n",
    "            new_dict[list_str[i]] = 1\n",
    "        else:\n",
    "            # if not true, then we increase the value of the repeated word by 1\n",
    "            new_dict[list_str[i]] += 1\n",
    "\n",
    "    return new_dict\n",
    "\n",
    "# let's separate function to append dictionary\n",
    "# def dict_count(new_dict, word):\n",
    "#     new_dict[word] = 1\n",
    "#     return new_dict\n",
    "\n",
    "dictionary1 = {}\n",
    "dict_count(dictionary1, 'apple')\n",
    "\n",
    "\n",
    "# word_count(a_text)\n"
   ]
  },
  {
   "cell_type": "markdown",
   "metadata": {},
   "source": [
    "## Exercise #3\n",
    "\n",
    "Write a program to implement a Linear Search Algorithm. Also in a comment, write the Time Complexity of the following algorithm.\n",
    "\n",
    "#### Hint: Linear Searching will require searching a list for a given number. "
   ]
  },
  {
   "cell_type": "code",
   "execution_count": 1,
   "metadata": {},
   "outputs": [
    {
     "data": {
      "text/plain": [
       "4"
      ]
     },
     "execution_count": 1,
     "metadata": {},
     "output_type": "execute_result"
    }
   ],
   "source": [
    "list1 = [0, 1, 21, 33, 45, 45, 61, 71, 72, 73]\n",
    "\n",
    "def linear_search(list3, target):\n",
    "    for index in range(len(list3)):\n",
    "        num = list3[index]\n",
    "        if num == target:\n",
    "            return index\n",
    "    return -1\n",
    "\n",
    "linear_search(list1, 45)"
   ]
  }
 ],
 "metadata": {
  "kernelspec": {
   "display_name": "Python 3",
   "language": "python",
   "name": "python3"
  },
  "language_info": {
   "codemirror_mode": {
    "name": "ipython",
    "version": 3
   },
   "file_extension": ".py",
   "mimetype": "text/x-python",
   "name": "python",
   "nbconvert_exporter": "python",
   "pygments_lexer": "ipython3",
   "version": "3.10.9"
  },
  "vscode": {
   "interpreter": {
    "hash": "b90313491b8fcf5277c814ee9f8b8bef470f56b3ea82ad801adfe9786958121d"
   }
  }
 },
 "nbformat": 4,
 "nbformat_minor": 2
}
